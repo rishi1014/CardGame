{
 "cells": [
  {
   "cell_type": "code",
   "execution_count": 39,
   "id": "85e361c8",
   "metadata": {},
   "outputs": [],
   "source": [
    "# globally defined \n",
    "\n",
    "import random\n",
    "\n",
    "suits = ('Hearts', 'Diamonds', 'Spades', 'Clubs')\n",
    "ranks = ('Two', 'Three', 'Four', 'Five', 'Six', 'Seven', 'Eight', 'Nine', 'Ten', 'Jack', 'Queen', 'King', 'Ace')\n",
    "values = {'Two':2, 'Three':3, 'Four':4, 'Five':5, 'Six':6, 'Seven':7, 'Eight':8, \n",
    "            'Nine':9, 'Ten':10, 'Jack':11, 'Queen':12, 'King':13, 'Ace':14}\n",
    "\n",
    "class Card:\n",
    "    \n",
    "    def __init__(self,suit,rank):\n",
    "        self.suit = suit\n",
    "        self.rank = rank\n",
    "        self.value = values[rank]\n",
    "        \n",
    "    def __str__(self):\n",
    "        return self.rank + ' of ' + self.suit"
   ]
  },
  {
   "cell_type": "code",
   "execution_count": 40,
   "id": "1cd0d93d",
   "metadata": {},
   "outputs": [],
   "source": [
    "class Deck:\n",
    "    def __init__(self):\n",
    "        self.all_cards =[]\n",
    "        for suit in suits :\n",
    "            for rank in ranks:\n",
    "                self.all_cards.append(Card(suit,rank))\n",
    "    def shuffle(self):\n",
    "        random.shuffle(self.all_cards)\n",
    "    \n",
    "    def deal_one(self):\n",
    "        return self.all_cards.pop()"
   ]
  },
  {
   "cell_type": "code",
   "execution_count": 41,
   "id": "0f39faf2",
   "metadata": {},
   "outputs": [],
   "source": [
    "new_deck = Deck()"
   ]
  },
  {
   "cell_type": "code",
   "execution_count": 42,
   "id": "b5918c4f",
   "metadata": {},
   "outputs": [
    {
     "data": {
      "text/plain": [
       "52"
      ]
     },
     "execution_count": 42,
     "metadata": {},
     "output_type": "execute_result"
    }
   ],
   "source": [
    "len(new_deck.all_cards)"
   ]
  },
  {
   "cell_type": "code",
   "execution_count": 43,
   "id": "b1ee839d",
   "metadata": {},
   "outputs": [
    {
     "name": "stdout",
     "output_type": "stream",
     "text": [
      "Two of Hearts\n"
     ]
    }
   ],
   "source": [
    "print(new_deck.all_cards[0])"
   ]
  },
  {
   "cell_type": "code",
   "execution_count": 44,
   "id": "26105c2c",
   "metadata": {},
   "outputs": [],
   "source": [
    "new_deck.shuffle()"
   ]
  },
  {
   "cell_type": "code",
   "execution_count": 45,
   "id": "f87eb6f8",
   "metadata": {},
   "outputs": [
    {
     "name": "stdout",
     "output_type": "stream",
     "text": [
      "Six of Hearts\n"
     ]
    }
   ],
   "source": [
    "print(new_deck.all_cards[0])"
   ]
  },
  {
   "cell_type": "code",
   "execution_count": 46,
   "id": "8a2f4e43",
   "metadata": {},
   "outputs": [],
   "source": [
    "my_card =new_deck.deal_one()"
   ]
  },
  {
   "cell_type": "code",
   "execution_count": 47,
   "id": "03a0bdd1",
   "metadata": {},
   "outputs": [],
   "source": [
    "class Player():\n",
    "    def __init__(self, name):\n",
    "        self.name=name\n",
    "        self.all_cards=[]\n",
    "    \n",
    "    def remove_one(self):\n",
    "        return self.all_cards.pop()\n",
    "    \n",
    "    def add_cards(self,new_cards):\n",
    "        if type(new_cards)==type([]):\n",
    "            self.all_cards.extend(new_cards)\n",
    "        else:\n",
    "            self.all_cards.append(new_cards)\n",
    "    \n",
    "    def __str__(self):\n",
    "        return f'Player {self.name} has {len(self.all_cards)} cards.'"
   ]
  },
  {
   "cell_type": "code",
   "execution_count": 48,
   "id": "ea9c312b",
   "metadata": {},
   "outputs": [],
   "source": [
    "#game setup \n",
    "\n",
    "player1=Player(\"Rishi\")\n",
    "player2=Player(\"Shrey\")\n",
    "\n",
    "new_deck= Deck()\n",
    "new_deck.shuffle()\n",
    "\n",
    "for x in range(26):\n",
    "    player1.add_cards(new_deck.deal_one())\n",
    "    player2.add_cards(new_deck.deal_one())"
   ]
  },
  {
   "cell_type": "code",
   "execution_count": 49,
   "id": "78a26d16",
   "metadata": {},
   "outputs": [
    {
     "data": {
      "text/plain": [
       "26"
      ]
     },
     "execution_count": 49,
     "metadata": {},
     "output_type": "execute_result"
    }
   ],
   "source": [
    "len(player1.all_cards)"
   ]
  },
  {
   "cell_type": "code",
   "execution_count": 50,
   "id": "1afd435b",
   "metadata": {},
   "outputs": [],
   "source": [
    "game_on=True"
   ]
  },
  {
   "cell_type": "code",
   "execution_count": 52,
   "id": "acd4dc24",
   "metadata": {},
   "outputs": [
    {
     "name": "stdout",
     "output_type": "stream",
     "text": [
      "Round 1\n",
      "Round 2\n",
      "Round 3\n",
      "Round 4\n",
      "WAR!!\n",
      "Round 5\n",
      "Round 6\n",
      "Round 7\n",
      "Round 8\n",
      "Round 9\n",
      "WAR!!\n",
      "Round 10\n",
      "Round 11\n",
      "Round 12\n",
      "Round 13\n",
      "Round 14\n",
      "Round 15\n",
      "Round 16\n",
      "Round 17\n",
      "Round 18\n",
      "Round 19\n",
      "Round 20\n",
      "Round 21\n",
      "Round 22\n",
      "Round 23\n",
      "Round 24\n",
      "Round 25\n",
      "Round 26\n",
      "Round 27\n",
      "Round 28\n",
      "WAR!!\n",
      "Round 29\n",
      "WAR!!\n",
      "Round 30\n",
      "Round 31\n",
      "Round 32\n",
      "Round 33\n",
      "Round 34\n",
      "Round 35\n",
      "WAR!!\n",
      "Round 36\n",
      "Round 37\n",
      "Round 38\n",
      "Round 39\n",
      "Round 40\n",
      "Round 41\n",
      "Round 42\n",
      "Round 43\n",
      "Round 44\n",
      "Round 45\n",
      "Round 46\n",
      "Round 47\n",
      "Round 48\n",
      "Round 49\n",
      "Round 50\n",
      "Round 51\n",
      "Round 52\n",
      "Round 53\n",
      "Round 54\n",
      "Round 55\n",
      "WAR!!\n",
      "Round 56\n",
      "Round 57\n",
      "Round 58\n",
      "Round 59\n",
      "Round 60\n",
      "Round 61\n",
      "Round 62\n",
      "Round 63\n",
      "Round 64\n",
      "Round 65\n",
      "Round 66\n",
      "Round 67\n",
      "Round 68\n",
      "Round 69\n",
      "Round 70\n",
      "Round 71\n",
      "Round 72\n",
      "Round 73\n",
      "Round 74\n",
      "Round 75\n",
      "Round 76\n",
      "Round 77\n",
      "Round 78\n",
      "Round 79\n",
      "Round 80\n",
      "Round 81\n",
      "Round 82\n",
      "Round 83\n",
      "Round 84\n",
      "Round 85\n",
      "WAR!!\n",
      "Round 86\n",
      "Round 87\n",
      "Round 88\n",
      "Round 89\n",
      "Round 90\n",
      "Round 91\n",
      "Round 92\n",
      "Round 93\n",
      "Round 94\n",
      "Round 95\n",
      "Round 96\n",
      "Round 97\n",
      "Round 98\n",
      "Round 99\n",
      "Round 100\n",
      "Round 101\n",
      "Round 102\n",
      "WAR!!\n",
      "Player 1 does not have enough cards to play this war\n",
      "Player2 WINS!!\n"
     ]
    }
   ],
   "source": [
    "#while loop\n",
    "round_num = 0\n",
    "while game_on:\n",
    "    round_num = round_num +1\n",
    "    print(f\"Round {round_num}\")\n",
    "    \n",
    "    if len(player1.all_cards)==0:\n",
    "        print(\"Player 1 , is out of cards!! :Player 2 Wins!!\")\n",
    "        game_on = False\n",
    "        break\n",
    "              \n",
    "    if len(player2.all_cards)==0:\n",
    "        print(f\"{player2} , is out of cards!! {player1} Wins!!\")\n",
    "        game_on = False\n",
    "        break\n",
    "              \n",
    "    #start a new round\n",
    "    player1_cards =[]\n",
    "    player1_cards.append(player1.remove_one())\n",
    "      \n",
    "    player2_cards =[]\n",
    "    player2_cards.append(player2.remove_one())\n",
    "        \n",
    "    #While at WAR\n",
    "      \n",
    "    at_war =True\n",
    "    while at_war:\n",
    "              if player1_cards[-1].value > player2_cards[-1].value:\n",
    "                 player1.add_cards(player1_cards)\n",
    "                 player1.add_cards(player2_cards)\n",
    "              \n",
    "                 at_war = False\n",
    "              \n",
    "              elif player1_cards[-1].value < player2_cards[-1].value:\n",
    "                   player2.add_cards(player1_cards)\n",
    "                   player2.add_cards(player2_cards)\n",
    "              \n",
    "                   at_war = False\n",
    "              \n",
    "              else:\n",
    "                  print(\"WAR!!\")\n",
    "                  \n",
    "                  if len(player1.all_cards) < 5:\n",
    "                      print(\"Player 1 does not have enough cards to play this war\")\n",
    "                      print(f\"Player2 WINS!!\")\n",
    "                      game_on = False\n",
    "                      break\n",
    "              \n",
    "                  elif len(player2.all_cards) < 5:\n",
    "                      print(\"Player 2 does not have enough cards to play this war\")\n",
    "                      print(\"Player 1 WINS!!\")\n",
    "                      game_on = False\n",
    "                      break\n",
    "              \n",
    "                  else:\n",
    "                      for num in range(5):\n",
    "                          player1_cards.append(player1.remove_one())\n",
    "                          player2_cards.append(player2.remove_one())\n",
    "              \n",
    "              \n",
    "                      \n",
    "      \n",
    "        \n",
    "              "
   ]
  },
  {
   "cell_type": "code",
   "execution_count": null,
   "id": "2530faea",
   "metadata": {},
   "outputs": [],
   "source": []
  }
 ],
 "metadata": {
  "kernelspec": {
   "display_name": "Python 3 (ipykernel)",
   "language": "python",
   "name": "python3"
  },
  "language_info": {
   "codemirror_mode": {
    "name": "ipython",
    "version": 3
   },
   "file_extension": ".py",
   "mimetype": "text/x-python",
   "name": "python",
   "nbconvert_exporter": "python",
   "pygments_lexer": "ipython3",
   "version": "3.9.12"
  }
 },
 "nbformat": 4,
 "nbformat_minor": 5
}
